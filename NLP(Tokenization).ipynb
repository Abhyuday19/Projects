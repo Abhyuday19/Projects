{
  "nbformat": 4,
  "nbformat_minor": 0,
  "metadata": {
    "colab": {
      "provenance": [],
      "authorship_tag": "ABX9TyPt8hWh6bgBfDN1xDXi3Y8B",
      "include_colab_link": true
    },
    "kernelspec": {
      "name": "python3",
      "display_name": "Python 3"
    },
    "language_info": {
      "name": "python"
    }
  },
  "cells": [
    {
      "cell_type": "markdown",
      "metadata": {
        "id": "view-in-github",
        "colab_type": "text"
      },
      "source": [
        "<a href=\"https://colab.research.google.com/github/Abhyuday19/Projects/blob/main/NLP(Tokenization).ipynb\" target=\"_parent\"><img src=\"https://colab.research.google.com/assets/colab-badge.svg\" alt=\"Open In Colab\"/></a>"
      ]
    },
    {
      "cell_type": "code",
      "execution_count": 17,
      "metadata": {
        "colab": {
          "base_uri": "https://localhost:8080/"
        },
        "id": "xN14mAQBjLmm",
        "outputId": "ddb4d68e-20e2-43d2-a90d-5bf5d4d19930"
      },
      "outputs": [
        {
          "output_type": "stream",
          "name": "stdout",
          "text": [
            "Requirement already satisfied: nltk in /usr/local/lib/python3.11/dist-packages (3.9.1)\n",
            "Requirement already satisfied: click in /usr/local/lib/python3.11/dist-packages (from nltk) (8.2.1)\n",
            "Requirement already satisfied: joblib in /usr/local/lib/python3.11/dist-packages (from nltk) (1.5.1)\n",
            "Requirement already satisfied: regex>=2021.8.3 in /usr/local/lib/python3.11/dist-packages (from nltk) (2024.11.6)\n",
            "Requirement already satisfied: tqdm in /usr/local/lib/python3.11/dist-packages (from nltk) (4.67.1)\n"
          ]
        }
      ],
      "source": [
        "!pip install nltk"
      ]
    },
    {
      "cell_type": "code",
      "source": [
        "import nltk\n",
        "nltk.download('punkt_tab')"
      ],
      "metadata": {
        "colab": {
          "base_uri": "https://localhost:8080/"
        },
        "id": "DGrG4V0Djg3y",
        "outputId": "31131d97-284b-4687-81cc-7c7cd8f68db3"
      },
      "execution_count": 24,
      "outputs": [
        {
          "output_type": "stream",
          "name": "stderr",
          "text": [
            "[nltk_data] Downloading package punkt_tab to /root/nltk_data...\n",
            "[nltk_data]   Unzipping tokenizers/punkt_tab.zip.\n"
          ]
        },
        {
          "output_type": "execute_result",
          "data": {
            "text/plain": [
              "True"
            ]
          },
          "metadata": {},
          "execution_count": 24
        }
      ]
    },
    {
      "cell_type": "code",
      "source": [
        "corpus = ''' Hello Everyone My Name is Abhyday Singh.\n",
        "I like to drink the Apple Juice and My Friend likes to drink the Mnago juice.\n",
        "'''"
      ],
      "metadata": {
        "id": "rur6ezIzmR6d"
      },
      "execution_count": 25,
      "outputs": []
    },
    {
      "cell_type": "code",
      "source": [
        "corpus"
      ],
      "metadata": {
        "colab": {
          "base_uri": "https://localhost:8080/",
          "height": 35
        },
        "id": "cxTuey4MkLjM",
        "outputId": "9842acb3-edda-473c-ef00-4a968492341a"
      },
      "execution_count": 26,
      "outputs": [
        {
          "output_type": "execute_result",
          "data": {
            "text/plain": [
              "' Hello Everyone My Name is Abhyday Singh.\\nI like to drink the Apple Juice and My Friend likes to drink the Mnago juice.\\n'"
            ],
            "application/vnd.google.colaboratory.intrinsic+json": {
              "type": "string"
            }
          },
          "metadata": {},
          "execution_count": 26
        }
      ]
    },
    {
      "cell_type": "code",
      "source": [
        "## Tokenization\n",
        "## Sentence -> paragraphs\n",
        "from nltk.tokenize import sent_tokenize"
      ],
      "metadata": {
        "id": "H3T6EKBbkNPC"
      },
      "execution_count": 27,
      "outputs": []
    },
    {
      "cell_type": "code",
      "source": [
        "sentences = sent_tokenize(corpus)\n",
        "print(sentences)"
      ],
      "metadata": {
        "colab": {
          "base_uri": "https://localhost:8080/"
        },
        "id": "goXtlY5Tk8nN",
        "outputId": "ffe319dc-a63f-46dd-a8e4-c6e0df4e8f1a"
      },
      "execution_count": 28,
      "outputs": [
        {
          "output_type": "stream",
          "name": "stdout",
          "text": [
            "[' Hello Everyone My Name is Abhyday Singh.', 'I like to drink the Apple Juice and My Friend likes to drink the Mnago juice.']\n"
          ]
        }
      ]
    },
    {
      "cell_type": "code",
      "source": [
        "## Tokenization\n",
        "## Paragraph -> words\n",
        "## senetence-> words\n",
        "\n",
        "from nltk.tokenize import word_tokenize\n",
        "corpus = \"Hi everyone! I like to walk\"\n",
        "words = word_tokenize(corpus)"
      ],
      "metadata": {
        "id": "ycQo1GO7k_mc"
      },
      "execution_count": 31,
      "outputs": []
    },
    {
      "cell_type": "code",
      "source": [
        "words"
      ],
      "metadata": {
        "colab": {
          "base_uri": "https://localhost:8080/"
        },
        "id": "huGbaWUkoQ2k",
        "outputId": "7281bd80-1476-4884-e783-404bb1f6aa9b"
      },
      "execution_count": 32,
      "outputs": [
        {
          "output_type": "execute_result",
          "data": {
            "text/plain": [
              "['Hi', 'everyone', '!', 'I', 'like', 'to', 'walk']"
            ]
          },
          "metadata": {},
          "execution_count": 32
        }
      ]
    },
    {
      "cell_type": "code",
      "source": [
        "from nltk.tokenize import wordpunct_tokenize ## the differnce between word and word punct , is that here word_punct also saperates the punctions from the sentence also.\n",
        "corpus = \"Hello  welcome to Persons's youtube channel. I hope you like the vedios , please do share and subscribe the channel\"\n",
        "words_1 = wordpunct_tokenize(corpus)\n",
        "print(words_1)"
      ],
      "metadata": {
        "colab": {
          "base_uri": "https://localhost:8080/"
        },
        "id": "ptgRX3jdoXA3",
        "outputId": "22aed38e-4ce6-4572-8a04-4a31373758ab"
      },
      "execution_count": 34,
      "outputs": [
        {
          "output_type": "stream",
          "name": "stdout",
          "text": [
            "['Hello', 'welcome', 'to', 'Persons', \"'\", 's', 'youtube', 'channel', '.', 'I', 'hope', 'you', 'like', 'the', 'vedios', ',', 'please', 'do', 'share', 'and', 'subscribe', 'the', 'channel']\n"
          ]
        }
      ]
    },
    {
      "cell_type": "code",
      "source": [
        "from nltk.tokenize import TreebankWordTokenizer ## the differnce is here the full stop after sentences is not separated , but the last full stop of the sentence is separated\n",
        "corpus = \"Hello  welcome to Persons's youtube channel. I hope you like the vedios , please do share and subscribe the channel.\"\n",
        "tokenizer = TreebankWordTokenizer()\n",
        "tokenizer.tokenize(corpus)"
      ],
      "metadata": {
        "colab": {
          "base_uri": "https://localhost:8080/"
        },
        "id": "c8Lv8turpZno",
        "outputId": "35078b75-c176-43d8-87bc-94d046f7879d"
      },
      "execution_count": 40,
      "outputs": [
        {
          "output_type": "execute_result",
          "data": {
            "text/plain": [
              "['Hello',\n",
              " 'welcome',\n",
              " 'to',\n",
              " 'Persons',\n",
              " \"'s\",\n",
              " 'youtube',\n",
              " 'channel.',\n",
              " 'I',\n",
              " 'hope',\n",
              " 'you',\n",
              " 'like',\n",
              " 'the',\n",
              " 'vedios',\n",
              " ',',\n",
              " 'please',\n",
              " 'do',\n",
              " 'share',\n",
              " 'and',\n",
              " 'subscribe',\n",
              " 'the',\n",
              " 'channel',\n",
              " '.']"
            ]
          },
          "metadata": {},
          "execution_count": 40
        }
      ]
    },
    {
      "cell_type": "code",
      "source": [],
      "metadata": {
        "id": "uFmcAoL-qSkF"
      },
      "execution_count": null,
      "outputs": []
    }
  ]
}